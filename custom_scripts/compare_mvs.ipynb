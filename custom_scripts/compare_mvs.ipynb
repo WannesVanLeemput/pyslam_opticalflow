{
 "cells": [
  {
   "cell_type": "code",
   "execution_count": 1,
   "metadata": {},
   "outputs": [],
   "source": [
    "import sys\n",
    "import numpy\n",
    "import csv\n",
    "import pandas as pd\n",
    "import cv2\n",
    "\n",
    "sys.path.insert(0, '/home/wannes/GitHub/pyslam/thirdparty/flowlib')\n",
    "import flowlib"
   ]
  },
  {
   "cell_type": "code",
   "execution_count": 2,
   "metadata": {
    "scrolled": true
   },
   "outputs": [
    {
     "name": "stdout",
     "output_type": "stream",
     "text": [
      "Reading 448 x 640 flo file\n"
     ]
    }
   ],
   "source": [
    "flow2d_of = flowlib.read_flow('/home/wannes/storage/agent_1/flow/000012.flo')"
   ]
  },
  {
   "cell_type": "code",
   "execution_count": 3,
   "metadata": {},
   "outputs": [],
   "source": [
    "def parse_csv(csvfile):\n",
    "    motion_vectors = []\n",
    "    with open(csvfile) as file:\n",
    "        csv_reader = csv.reader(file, delimiter=',')\n",
    "        line_count = 0\n",
    "        for row in csv_reader:\n",
    "            motion_vectors.append(row)\n",
    "    return motion_vectors\n",
    "    "
   ]
  },
  {
   "cell_type": "code",
   "execution_count": 4,
   "metadata": {},
   "outputs": [],
   "source": [
    "flow2d_orb2 = parse_csv('/home/wannes/storage/agent_1/motionvectors/orb2/12_13_mvs.csv')"
   ]
  },
  {
   "cell_type": "code",
   "execution_count": 5,
   "metadata": {},
   "outputs": [
    {
     "ename": "NameError",
     "evalue": "name 'df_flow' is not defined",
     "output_type": "error",
     "traceback": [
      "\u001b[0;31m---------------------------------------------------------------------------\u001b[0m",
      "\u001b[0;31mNameError\u001b[0m                                 Traceback (most recent call last)",
      "\u001b[0;32m<ipython-input-5-2e1f799c22c4>\u001b[0m in \u001b[0;36m<module>\u001b[0;34m\u001b[0m\n\u001b[0;32m----> 1\u001b[0;31m \u001b[0mdf_flow\u001b[0m\u001b[0;34m.\u001b[0m\u001b[0mhead\u001b[0m\u001b[0;34m(\u001b[0m\u001b[0;34m)\u001b[0m\u001b[0;34m\u001b[0m\u001b[0;34m\u001b[0m\u001b[0m\n\u001b[0m",
      "\u001b[0;31mNameError\u001b[0m: name 'df_flow' is not defined"
     ]
    }
   ],
   "source": [
    "df_flow.head()"
   ]
  },
  {
   "cell_type": "code",
   "execution_count": 80,
   "metadata": {},
   "outputs": [],
   "source": [
    "def str_to_array(string):\n",
    "    ret = []\n",
    "    string = string.replace('[', '')\n",
    "    string = string.replace(']', '')\n",
    "    temp_list = string.split(' ')\n",
    "    def_list = [l for l in temp_list if l != '']\n",
    "    x = float(def_list[0])\n",
    "    y = float(def_list[-1])\n",
    "    return [x, y]"
   ]
  },
  {
   "cell_type": "code",
   "execution_count": 81,
   "metadata": {
    "scrolled": true
   },
   "outputs": [
    {
     "name": "stdout",
     "output_type": "stream",
     "text": [
      "coordinates    optical flow           <->    ORB2\n",
      "254 258 :  [-2.0865505   0.82359934]  <->  20.0 1.0\n",
      "326 172 :  [ 0.17163074 -0.8625633 ]  <->  21.0 0.0\n",
      "422 106 :  [ 1.5309553 -2.2095325]  <->  16.0 -5.0\n",
      "202 147 :  [-3.1348076 -2.2657123]  <->  21.0 1.0\n",
      "343 232 :  [ 0.68171436 -0.01913423]  <->  19.0 0.0\n",
      "388 187 :  [ 0.4345627 -0.2156726]  <->  20.00003 -2.199997\n",
      "342 232 :  [ 0.658976   -0.01358919]  <->  13.680023 -3.8399962999999997\n",
      "219 190 :  [-2.688747  -1.0464424]  <->  22.0 3.0\n",
      "391 173 :  [ 0.2984157  -0.30324858]  <->  19.400024 -1.3999939\n",
      "306 21 :  [-0.27301484 -5.354301  ]  <->  19.0 -1.0\n",
      "225 348 :  [-9.888909 11.149161]  <->  21.0 3.0\n",
      "\n",
      "average horizontal bias:  -20.579622849148144\n",
      "average vertical bias:  0.4656865308623975\n"
     ]
    }
   ],
   "source": [
    "from statistics import mean\n",
    "\n",
    "diff_u = []\n",
    "diff_v = []\n",
    "norms = []\n",
    "print('coordinates    optical flow           <->    ORB2')\n",
    "for index, row in df_flow.iterrows():\n",
    "    coords = str_to_array(row[0])\n",
    "    mv_u_orb = float(row[2])\n",
    "    mv_v_orb = float(row[3])\n",
    "    mv = [mv_u_orb, mv_v_orb]\n",
    "    if int(coords[0]) == coords[0] and int(coords[0] >= 16):\n",
    "        x = int(float(coords[0]))\n",
    "        y = int(float(coords[1]))\n",
    "        print(x, y, ': ', flow2d_of[y-16, x], \" <-> \", mv_u_orb, mv_v_orb)\n",
    "        diff_u.append(flow2d_of[y-16,x][0] - mv_u_orb)\n",
    "        diff_v.append(flow2d_of[y-16,x][1] - mv_v_orb)\n",
    "        norms.append()\n",
    "print()\n",
    "print('average horizontal bias: ', mean(diff_u))\n",
    "print('average vertical bias: ', mean(diff_v))\n",
    "        \n",
    "    "
   ]
  },
  {
   "cell_type": "code",
   "execution_count": null,
   "metadata": {},
   "outputs": [],
   "source": []
  },
  {
   "cell_type": "code",
   "execution_count": null,
   "metadata": {},
   "outputs": [],
   "source": []
  }
 ],
 "metadata": {
  "kernelspec": {
   "display_name": "Python 3",
   "language": "python",
   "name": "python3"
  },
  "language_info": {
   "codemirror_mode": {
    "name": "ipython",
    "version": 3
   },
   "file_extension": ".py",
   "mimetype": "text/x-python",
   "name": "python",
   "nbconvert_exporter": "python",
   "pygments_lexer": "ipython3",
   "version": "3.8.3"
  }
 },
 "nbformat": 4,
 "nbformat_minor": 4
}
